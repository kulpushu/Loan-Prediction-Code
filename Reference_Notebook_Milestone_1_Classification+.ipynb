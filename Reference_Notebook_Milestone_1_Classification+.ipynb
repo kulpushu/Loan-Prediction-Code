{
 "cells": [
  {
   "cell_type": "markdown",
   "metadata": {
    "id": "1_iHEvciuTB9"
   },
   "source": [
    "# **Milestone 1**"
   ]
  },
  {
   "cell_type": "markdown",
   "metadata": {
    "id": "ZKyzwpUiuTB2"
   },
   "source": [
    "##<b>Problem Definition</b>\n",
    "**The context:** Why is this problem important to solve?<br>\n",
    "**The objectives:** What is the intended goal?<br>\n",
    "**The key questions:** What are the key questions that need to be answered?<br>\n",
    "**The problem formulation:** What is it that we are trying to solve using data science?\n",
    "\n",
    "## **Data Description:**\n",
    "The Home Equity dataset (HMEQ) contains baseline and loan performance information for 5,960 recent home equity loans. The target (BAD) is a binary variable that indicates whether an applicant has ultimately defaulted or has been severely delinquent. This adverse outcome occurred in 1,189 cases (20 percent). 12 input variables were registered for each applicant.\n",
    "\n",
    "\n",
    "* **BAD:** 1 = Client defaulted on loan, 0 = loan repaid\n",
    "\n",
    "* **LOAN:** Amount of loan approved.\n",
    "\n",
    "* **MORTDUE:** Amount due on the existing mortgage.\n",
    "\n",
    "* **VALUE:** Current value of the property. \n",
    "\n",
    "* **REASON:** Reason for the loan request. (HomeImp = home improvement, DebtCon= debt consolidation which means taking out a new loan to pay off other liabilities and consumer debts) \n",
    "\n",
    "* **JOB:** The type of job that loan applicant has such as manager, self, etc.\n",
    "\n",
    "* **YOJ:** Years at present job.\n",
    "\n",
    "* **DEROG:** Number of major derogatory reports (which indicates a serious delinquency or late payments). \n",
    "\n",
    "* **DELINQ:** Number of delinquent credit lines (a line of credit becomes delinquent when a borrower does not make the minimum required payments 30 to 60 days past the day on which the payments were due). \n",
    "\n",
    "* **CLAGE:** Age of the oldest credit line in months. \n",
    "\n",
    "* **NINQ:** Number of recent credit inquiries. \n",
    "\n",
    "* **CLNO:** Number of existing credit lines.\n",
    "\n",
    "* **DEBTINC:** Debt-to-income ratio (all your monthly debt payments divided by your gross monthly income. This number is one way lenders measure your ability to manage the monthly payments to repay the money you plan to borrow."
   ]
  },
  {
   "cell_type": "markdown",
   "metadata": {
    "id": "LwRxhSDi4Mcc"
   },
   "source": [
    "## <b>Important Notes</b>\n",
    "\n",
    "- This notebook can be considered a guide to refer to while solving the problem. The evaluation will be as per the Rubric shared for each Milestone. Unlike previous courses, it does not follow the pattern of the graded questions in different sections. This notebook would give you a direction on what steps need to be taken in order to get a viable solution to the problem. Please note that this is just one way of doing this. There can be other 'creative' ways to solve the problem and we urge you to feel free and explore them as an 'optional' exercise. \n",
    "\n",
    "- In the notebook, there are markdowns cells called - Observations and Insights. It is a good practice to provide observations and extract insights from the outputs.\n",
    "\n",
    "- The naming convention for different variables can vary. Please consider the code provided in this notebook as a sample code.\n",
    "\n",
    "- All the outputs in the notebook are just for reference and can be different if you follow a different approach.\n",
    "\n",
    "- There are sections called **Think About It** in the notebook that will help you get a better understanding of the reasoning behind a particular technique/step. Interested learners can take alternative approaches if they want to explore different techniques. "
   ]
  },
  {
   "cell_type": "markdown",
   "metadata": {
    "id": "DcZcGaZruTB-"
   },
   "source": [
    "### **Import the necessary libraries**"
   ]
  },
  {
   "cell_type": "code",
   "execution_count": null,
   "metadata": {
    "id": "pvj9AGJtuTB_"
   },
   "outputs": [],
   "source": [
    "import numpy as np\n",
    "import pandas as pd\n",
    "import matplotlib.pyplot as plt\n",
    "import seaborn as sns\n",
    "sns.set_theme()\n",
    "\n",
    "from sklearn.model_selection import train_test_split\n",
    "\n",
    "from sklearn.linear_model import LogisticRegression\n",
    "\n",
    "from sklearn import metrics\n",
    "from sklearn.metrics import confusion_matrix, classification_report,accuracy_score,precision_score,recall_score,f1_score\n",
    "\n",
    "from sklearn import tree\n",
    "from sklearn.tree import DecisionTreeClassifier\n",
    "\n",
    "from sklearn.ensemble import BaggingClassifier\n",
    "from sklearn.ensemble import RandomForestClassifier\n",
    "\n",
    "import scipy.stats as stats\n",
    "\n",
    "from sklearn.model_selection import GridSearchCV\n",
    "\n",
    "\n",
    "import warnings\n",
    "warnings.filterwarnings('ignore')"
   ]
  },
  {
   "cell_type": "markdown",
   "metadata": {
    "id": "MeR8oNrJuTCB"
   },
   "source": [
    "### **Read the dataset**"
   ]
  },
  {
   "cell_type": "code",
   "execution_count": null,
   "metadata": {
    "id": "x-_l0eJsuTCC"
   },
   "outputs": [],
   "source": [
    "hm=pd.read_csv(\"hmeq.csv\")"
   ]
  },
  {
   "cell_type": "code",
   "execution_count": null,
   "metadata": {
    "id": "u6CaY5DauTCD"
   },
   "outputs": [],
   "source": [
    "# Copying data to another variable to avoid any changes to original data\n",
    "data=hm.copy()"
   ]
  },
  {
   "cell_type": "markdown",
   "metadata": {
    "id": "T9ykJzCRuTCD"
   },
   "source": [
    "### **Print the first and last 5 rows of the dataset**"
   ]
  },
  {
   "cell_type": "code",
   "execution_count": null,
   "metadata": {
    "id": "8BbtCu5QuTCE"
   },
   "outputs": [],
   "source": [
    "# Display first five rows\n",
    "# Remove ___________ and complete the code\n",
    "\n",
    "______________"
   ]
  },
  {
   "cell_type": "code",
   "execution_count": null,
   "metadata": {
    "id": "lt5d7NJRuTCE"
   },
   "outputs": [],
   "source": [
    "# Display last 5 rows\n",
    "# Remove ___________ and complete the code\n",
    "_________________"
   ]
  },
  {
   "cell_type": "markdown",
   "metadata": {
    "id": "XJKmSsjtuTCF"
   },
   "source": [
    "### **Understand the shape of the dataset**"
   ]
  },
  {
   "cell_type": "code",
   "execution_count": null,
   "metadata": {
    "id": "HspKejinuTCF"
   },
   "outputs": [],
   "source": [
    "# Check the shape of the data\n",
    "# Remove ___________ and complete the code\n",
    "\n",
    "_________________"
   ]
  },
  {
   "cell_type": "markdown",
   "metadata": {
    "id": "cScgHgaPuTCG"
   },
   "source": [
    "**Insights ________**"
   ]
  },
  {
   "cell_type": "markdown",
   "metadata": {
    "id": "HGRNlowYuTCG"
   },
   "source": [
    "### **Check the data types of the columns**"
   ]
  },
  {
   "cell_type": "code",
   "execution_count": null,
   "metadata": {
    "id": "rA_zvhOjuTCH"
   },
   "outputs": [],
   "source": [
    "# Check info of the data\n",
    "# Remove ___________ and complete the code\n",
    "_____________"
   ]
  },
  {
   "cell_type": "markdown",
   "metadata": {
    "id": "PfS2SKZYuTCI"
   },
   "source": [
    "**Insights ______________**"
   ]
  },
  {
   "cell_type": "markdown",
   "metadata": {
    "id": "8RQwiyX5uTCI"
   },
   "source": [
    "### **Check for missing values**"
   ]
  },
  {
   "cell_type": "code",
   "execution_count": null,
   "metadata": {
    "id": "BkKU4OT5uTCJ"
   },
   "outputs": [],
   "source": [
    "# Analyse missing values - Hint: use isnull() function\n",
    "# Remove ___________ and complete the code\n",
    "________________________"
   ]
  },
  {
   "cell_type": "code",
   "execution_count": null,
   "metadata": {
    "id": "dteGNwLEuTCJ"
   },
   "outputs": [],
   "source": [
    "# Check the percentage of missing values in the each column.\n",
    "# Hint: divide the result from the previous code by the number of rows in the dataset\n",
    "# Remove ___________ and complete the code\n",
    "\n",
    "________________________"
   ]
  },
  {
   "cell_type": "markdown",
   "metadata": {
    "id": "VpLSU6ApuTCK"
   },
   "source": [
    "**Insights ________**"
   ]
  },
  {
   "cell_type": "markdown",
   "metadata": {
    "id": "MEwi3CxXuTCL"
   },
   "source": [
    "### **Think about it:**\n",
    "- We found the total number of missing values and the percentage of missing values, which is better to consider?\n",
    "- What can be the limit for % missing values in a column in order to avoid it and what are the challenges associated with filling them and avoiding them? "
   ]
  },
  {
   "cell_type": "markdown",
   "metadata": {
    "id": "R61QJ_xLuTCM"
   },
   "source": [
    "**We can convert the object type columns to categories**\n",
    "\n",
    "`converting \"objects\" to \"category\" reduces the data space required to store the dataframe`"
   ]
  },
  {
   "cell_type": "markdown",
   "metadata": {
    "id": "PgMjKOaRuTCM"
   },
   "source": [
    "### **Convert the data types**"
   ]
  },
  {
   "cell_type": "code",
   "execution_count": null,
   "metadata": {
    "id": "hrNDixcVuTCN"
   },
   "outputs": [],
   "source": [
    "cols = data.select_dtypes(['object']).columns.tolist()\n",
    "\n",
    "#adding target variable to this list as this is an classification problem and the target variable is categorical\n",
    "\n",
    "cols.append('BAD')"
   ]
  },
  {
   "cell_type": "code",
   "execution_count": null,
   "metadata": {
    "id": "gUOaQH76uTCR"
   },
   "outputs": [],
   "source": [
    "cols"
   ]
  },
  {
   "cell_type": "code",
   "execution_count": null,
   "metadata": {
    "id": "W7jha4QcuTCS"
   },
   "outputs": [],
   "source": [
    "# Changing the data type of object type column to category. hint use astype() function\n",
    "# remove ___________ and complete the code\n",
    "\n",
    "for i in cols:\n",
    "    data[i] = data[i]._______________________"
   ]
  },
  {
   "cell_type": "code",
   "execution_count": null,
   "metadata": {
    "id": "Jla4lGthuTCT"
   },
   "outputs": [],
   "source": [
    "# Checking the info again and the datatype of different variable\n",
    "# remove ___________ and complete the code\n",
    "\n",
    "__________________"
   ]
  },
  {
   "cell_type": "markdown",
   "metadata": {
    "id": "rHTODkjLuTCT"
   },
   "source": [
    "### **Analyze Summary Statistics of the dataset**"
   ]
  },
  {
   "cell_type": "code",
   "execution_count": null,
   "metadata": {
    "id": "2w7JWBV5uTCT"
   },
   "outputs": [],
   "source": [
    "# Analyze the summary statistics for numerical variables\n",
    "# Remove ___________ and complete the code\n",
    "\n",
    "______________________________"
   ]
  },
  {
   "cell_type": "markdown",
   "metadata": {
    "id": "g51vGZAGuTCT"
   },
   "source": [
    "**Insights ______________**"
   ]
  },
  {
   "cell_type": "code",
   "execution_count": null,
   "metadata": {
    "id": "IBo2gAezuTCU"
   },
   "outputs": [],
   "source": [
    "# Check summary for categorical data - Hint: inside describe function you can use the argument include=['category']\n",
    "# Remove ___________ and complete the code\n",
    "\n",
    "data.describe(_________________).T"
   ]
  },
  {
   "cell_type": "markdown",
   "metadata": {
    "id": "h9GGlAZTuTCU"
   },
   "source": [
    "**Insights _____________**"
   ]
  },
  {
   "cell_type": "markdown",
   "metadata": {
    "id": "VWcWZ_pDuTCU"
   },
   "source": [
    "**Let's look at the unique values in all the categorical variables**"
   ]
  },
  {
   "cell_type": "code",
   "execution_count": null,
   "metadata": {
    "id": "OwmmUgHhuTCV"
   },
   "outputs": [],
   "source": [
    "# Checking the count of unique values in each categorical column \n",
    "# Remove ___________ and complete the code\n",
    "\n",
    "cols_cat= data.select_dtypes(['category'])\n",
    "\n",
    "for i in cols_cat.columns:\n",
    "    print('Unique values in',i, 'are :')\n",
    "    print(______________________)\n",
    "    print('*'*40)"
   ]
  },
  {
   "cell_type": "markdown",
   "metadata": {
    "id": "8sh7FE6kuTCV"
   },
   "source": [
    "**Insights _____________**"
   ]
  },
  {
   "cell_type": "markdown",
   "metadata": {
    "id": "KVqJU9nluTCV"
   },
   "source": [
    "### **Think about it**\n",
    "- The results above gave the absolute count of unique values in each categorical column. Are absolute values a good measure? \n",
    "- If not, what else can be used? Try implementing that. "
   ]
  },
  {
   "cell_type": "markdown",
   "metadata": {
    "id": "3ZcMbNvZuTCW"
   },
   "source": [
    "## **Exploratory Data Analysis (EDA) and Visualization**"
   ]
  },
  {
   "cell_type": "markdown",
   "metadata": {
    "id": "65yxFJFVuTCW"
   },
   "source": [
    "## **Univariate Analysis**\n",
    "\n",
    "Univariate analysis is used to explore each variable in a data set, separately. It looks at the range of values, as well as the central tendency of the values. It can be done for both numerical and categorical variables"
   ]
  },
  {
   "cell_type": "markdown",
   "metadata": {
    "id": "4whDGVaBuTCW"
   },
   "source": [
    "### **1. Univariate Analysis - Numerical Data**\n",
    "Histograms and box plots help to visualize and describe numerical data. We use box plot and histogram to analyze the numerical columns."
   ]
  },
  {
   "cell_type": "code",
   "execution_count": null,
   "metadata": {
    "id": "gcycXyj3uTCX"
   },
   "outputs": [],
   "source": [
    "# While doing uni-variate analysis of numerical variables we want to study their central tendency and dispersion.\n",
    "# Let us write a function that will help us create boxplot and histogram for any input numerical variable.\n",
    "# This function takes the numerical column as the input and return the boxplots and histograms for the variable.\n",
    "# Let us see if this help us write faster and cleaner code.\n",
    "def histogram_boxplot(feature, figsize=(15,10), bins = None):\n",
    "    \"\"\" Boxplot and histogram combined\n",
    "    feature: 1-d feature array\n",
    "    figsize: size of fig (default (9,8))\n",
    "    bins: number of bins (default None / auto)\n",
    "    \"\"\"\n",
    "    f2, (ax_box2, ax_hist2) = plt.subplots(nrows = 2, # Number of rows of the subplot grid= 2\n",
    "                                           sharex = True, # x-axis will be shared among all subplots\n",
    "                                           gridspec_kw = {\"height_ratios\": (.25, .75)}, \n",
    "                                           figsize = figsize \n",
    "                                           ) # creating the 2 subplots\n",
    "    sns.boxplot(feature, ax=ax_box2, showmeans=True, color='violet') # boxplot will be created and a star will indicate the mean value of the column\n",
    "    sns.distplot(feature, kde=F, ax=ax_hist2, bins=bins,palette=\"winter\") if bins else sns.distplot(feature, kde=False, ax=ax_hist2) # For histogram\n",
    "    ax_hist2.axvline(np.mean(feature), color='green', linestyle='--') # Add mean to the histogram\n",
    "    ax_hist2.axvline(np.median(feature), color='black', linestyle='-') # Add median to the histogram"
   ]
  },
  {
   "cell_type": "markdown",
   "metadata": {
    "id": "blkJiWpZuTCX"
   },
   "source": [
    "#### Using the above function, let's first analyze the Histogram and Boxplot for LOAN"
   ]
  },
  {
   "cell_type": "code",
   "execution_count": null,
   "metadata": {
    "id": "Opq44Th3uTCY"
   },
   "outputs": [],
   "source": [
    "# Build the histogram boxplot for Loan\n",
    "histogram_boxplot(data['LOAN'])"
   ]
  },
  {
   "cell_type": "markdown",
   "metadata": {
    "id": "lMRlVrhUuTCY"
   },
   "source": [
    "**Insights __________**"
   ]
  },
  {
   "cell_type": "markdown",
   "metadata": {
    "id": "NQPk1YdYuTCY"
   },
   "source": [
    "#### **Note:** As done above, analyze Histogram and Boxplot for other variables"
   ]
  },
  {
   "cell_type": "markdown",
   "metadata": {
    "id": "TwsB4Ls7uTCY"
   },
   "source": [
    "**Insights ____________**"
   ]
  },
  {
   "cell_type": "markdown",
   "metadata": {
    "id": "35i8LgeWuTCY"
   },
   "source": [
    "### **2. Univariate Analysis - Categorical Data**"
   ]
  },
  {
   "cell_type": "code",
   "execution_count": null,
   "metadata": {
    "id": "gJkymNTmuTCZ"
   },
   "outputs": [],
   "source": [
    "# Function to create barplots that indicate percentage for each category.\n",
    "\n",
    "def perc_on_bar(plot, feature):\n",
    "    '''\n",
    "    plot\n",
    "    feature: categorical feature\n",
    "    the function won't work if a column is passed in hue parameter\n",
    "    '''\n",
    "\n",
    "    total = len(feature) # length of the column\n",
    "    for p in ax.patches:\n",
    "        percentage = '{:.1f}%'.format(100 * p.get_height()/total) # percentage of each class of the category\n",
    "        x = p.get_x() + p.get_width() / 2 - 0.05 # width of the plot\n",
    "        y = p.get_y() + p.get_height()           # height of the plot\n",
    "        ax.annotate(percentage, (x, y), size = 12) # annotate the percentage \n",
    "        \n",
    "    plt.show() # show the plot"
   ]
  },
  {
   "cell_type": "markdown",
   "metadata": {
    "id": "XtWPhW6AuTCZ"
   },
   "source": [
    "#### Analyze Barplot for DELINQ"
   ]
  },
  {
   "cell_type": "code",
   "execution_count": null,
   "metadata": {
    "id": "avQHwcT3uTCZ"
   },
   "outputs": [],
   "source": [
    "#Build barplot for DELINQ\n",
    "\n",
    "plt.figure(figsize=(15,5))\n",
    "ax = sns.countplot(data[\"DELINQ\"],palette='winter')\n",
    "perc_on_bar(ax,data[\"DELINQ\"])"
   ]
  },
  {
   "cell_type": "markdown",
   "metadata": {
    "id": "zPJ7-pbKuTCZ"
   },
   "source": [
    "**Insights ________**"
   ]
  },
  {
   "cell_type": "markdown",
   "metadata": {
    "id": "igI2dP6wuTCa"
   },
   "source": [
    "#### **Note:** As done above, analyze Histogram and Boxplot for other variables."
   ]
  },
  {
   "cell_type": "markdown",
   "metadata": {
    "id": "YdmMDqB0uTCa"
   },
   "source": [
    "**Insights _____________**"
   ]
  },
  {
   "cell_type": "markdown",
   "metadata": {
    "id": "jg5IFtbouTCa"
   },
   "source": [
    "## **Bivariate Analysis**"
   ]
  },
  {
   "cell_type": "markdown",
   "metadata": {
    "id": "bj9lXxzWuTCa"
   },
   "source": [
    "###**Bivariate Analysis: Continuous and Categorical Variables**"
   ]
  },
  {
   "cell_type": "markdown",
   "metadata": {
    "id": "RcrXKyzxuTCb"
   },
   "source": [
    "#### Analyze BAD vs Loan"
   ]
  },
  {
   "cell_type": "code",
   "execution_count": null,
   "metadata": {
    "id": "VAs0KdILuTCb"
   },
   "outputs": [],
   "source": [
    "sns.boxplot(data[\"BAD\"],data['LOAN'],palette=\"PuBu\")"
   ]
  },
  {
   "cell_type": "markdown",
   "metadata": {
    "id": "tjt6hgGxuTCc"
   },
   "source": [
    "**Insights ______**"
   ]
  },
  {
   "cell_type": "markdown",
   "metadata": {
    "id": "e5Uz1rqnuTCc"
   },
   "source": [
    "####**Note:** As shown above, perform Bi-Variate Analysis on different pair of Categorical and continuous variables"
   ]
  },
  {
   "cell_type": "markdown",
   "metadata": {
    "id": "1eucYnvKuTCc"
   },
   "source": [
    "### **Bivariate Analysis: Two Continuous Variables**"
   ]
  },
  {
   "cell_type": "code",
   "execution_count": null,
   "metadata": {
    "id": "tNeY-6-fuTCc"
   },
   "outputs": [],
   "source": [
    "sns.scatterplot(data[\"VALUE\"],data['MORTDUE'],palette=\"PuBu\")"
   ]
  },
  {
   "cell_type": "markdown",
   "metadata": {
    "id": "1-wGIbSKuTCd"
   },
   "source": [
    "**Insights: _____**"
   ]
  },
  {
   "cell_type": "markdown",
   "metadata": {
    "id": "cAs34FMbuTCd"
   },
   "source": [
    "#### **Note:** As shown above, perform Bivariate Analysis on different pairs of continuous variables"
   ]
  },
  {
   "cell_type": "markdown",
   "metadata": {
    "id": "tTvwzDBPuTCe"
   },
   "source": [
    "**Insights ____________**"
   ]
  },
  {
   "cell_type": "markdown",
   "metadata": {
    "id": "ce5BjPB1uTCf"
   },
   "source": [
    "### **Bivariate Analysis:  BAD vs Categorical Variables**"
   ]
  },
  {
   "cell_type": "markdown",
   "metadata": {
    "id": "iuyPa6QquTCi"
   },
   "source": [
    "**The stacked bar chart (aka stacked bar graph)** extends the standard bar chart from looking at numeric values across one categorical variable to two."
   ]
  },
  {
   "cell_type": "code",
   "execution_count": null,
   "metadata": {
    "id": "oohHgpYuuTCi"
   },
   "outputs": [],
   "source": [
    "### Function to plot stacked bar charts for categorical columns\n",
    "\n",
    "def stacked_plot(x):\n",
    "    sns.set(palette='nipy_spectral')\n",
    "    tab1 = pd.crosstab(x,data['BAD'],margins=True)\n",
    "    print(tab1)\n",
    "    print('-'*120)\n",
    "    tab = pd.crosstab(x,data['BAD'],normalize='index')\n",
    "    tab.plot(kind='bar',stacked=True,figsize=(10,5))\n",
    "    plt.legend(loc='lower left', frameon=False)\n",
    "    plt.legend(loc=\"upper left\", bbox_to_anchor=(1,1))\n",
    "    plt.show()"
   ]
  },
  {
   "cell_type": "markdown",
   "metadata": {
    "id": "bv2ZSN0fuTCj"
   },
   "source": [
    "#### Plot stacked bar plot for for LOAN and REASON"
   ]
  },
  {
   "cell_type": "code",
   "execution_count": null,
   "metadata": {
    "id": "Duk0xjTFuTCk"
   },
   "outputs": [],
   "source": [
    "# Plot stacked bar plot for BAD and REASON\n",
    "stacked_plot(data['REASON'])"
   ]
  },
  {
   "cell_type": "markdown",
   "metadata": {
    "id": "itlGd1rSuTCl"
   },
   "source": [
    "**Insights ____________**"
   ]
  },
  {
   "cell_type": "markdown",
   "metadata": {
    "id": "fq0ReWniuTCl"
   },
   "source": [
    "#### **Note:** As shown above, perform Bivariate Analysis on different pairs of Categorical vs BAD"
   ]
  },
  {
   "cell_type": "markdown",
   "metadata": {
    "id": "YLPwb-K6uTCm"
   },
   "source": [
    "**Insights ___________________**"
   ]
  },
  {
   "cell_type": "markdown",
   "metadata": {
    "id": "pc9wZJcGuTCm"
   },
   "source": [
    "### **Multivariate Analysis**"
   ]
  },
  {
   "cell_type": "markdown",
   "metadata": {
    "id": "htEKKZl0uTCn"
   },
   "source": [
    "#### Analyze Correlation Heatmap for Numerical Variables"
   ]
  },
  {
   "cell_type": "code",
   "execution_count": null,
   "metadata": {
    "id": "FHenIjI1uTCo"
   },
   "outputs": [],
   "source": [
    "# Separating numerical variables\n",
    "numerical_col = data.select_dtypes(include=np.number).columns.tolist()\n",
    "\n",
    "# Build correlation matrix for numerical columns\n",
    "# Remove ___________ and complete the code\n",
    "\n",
    "corr = data[___________]._________________\n",
    "\n",
    "# plot the heatmap\n",
    "# Remove ___________ and complete the code\n",
    "\n",
    "plt.figure(figsize=(16,12))\n",
    "sns.heatmap(___________,cmap='coolwarm',vmax=1,vmin=-1,\n",
    "        fmt=\".2f\",\n",
    "        xticklabels=corr.columns,\n",
    "        yticklabels=corr.columns);"
   ]
  },
  {
   "cell_type": "code",
   "execution_count": null,
   "metadata": {
    "id": "UVpwy9KouTCo"
   },
   "outputs": [],
   "source": [
    "# Build pairplot for the data with hue = 'BAD'\n",
    "# Remove ___________ and complete the code\n",
    "\n",
    "__________"
   ]
  },
  {
   "cell_type": "markdown",
   "metadata": {
    "id": "RTN4DIW4uTCp"
   },
   "source": [
    "### **Think about it**\n",
    "- Are there missing values and outliers in the dataset? If yes, how can you treat them? \n",
    "- Can you think of different ways in which this can be done and when to treat these outliers or not?\n",
    "- Can we create new features based on Missing values?"
   ]
  },
  {
   "cell_type": "markdown",
   "metadata": {
    "id": "zEjMlq0quTCp"
   },
   "source": [
    "#### Treating Outliers"
   ]
  },
  {
   "cell_type": "code",
   "execution_count": null,
   "metadata": {
    "id": "r-fykwEMuTCp"
   },
   "outputs": [],
   "source": [
    "def treat_outliers(df,col):\n",
    "    '''\n",
    "    treats outliers in a varaible\n",
    "    col: str, name of the numerical varaible\n",
    "    df: data frame\n",
    "    col: name of the column\n",
    "    '''\n",
    "    \n",
    "    Q1=______________ # 25th quantile\n",
    "    Q3=_____________  # 75th quantile\n",
    "    IQR=___________   # IQR Range\n",
    "    Lower_Whisker = ____________  #define lower whisker\n",
    "    Upper_Whisker = ____________  # define upper Whisker\n",
    "    df[col] = np.clip(df[col], Lower_Whisker, Upper_Whisker) # all the values samller than Lower_Whisker will be assigned value of Lower_whisker \n",
    "                                                            # and all the values above upper_whishker will be assigned value of upper_Whisker \n",
    "    return df\n",
    "\n",
    "def treat_outliers_all(df, col_list):\n",
    "    '''\n",
    "    treat outlier in all numerical varaibles\n",
    "    col_list: list of numerical varaibles\n",
    "    df: data frame\n",
    "    '''\n",
    "    for c in col_list:\n",
    "        df = treat_outliers(df,c)\n",
    "        \n",
    "    return df\n",
    "    "
   ]
  },
  {
   "cell_type": "code",
   "execution_count": null,
   "metadata": {
    "id": "z5PklUrZuTCq"
   },
   "outputs": [],
   "source": [
    "df_raw = data.copy()\n",
    "\n",
    "numerical_col = df_raw.select_dtypes(include=np.number).columns.tolist()# getting list of numerical columns\n",
    "\n",
    "df = treat_outliers_all(df_raw,numerical_col)"
   ]
  },
  {
   "cell_type": "markdown",
   "metadata": {
    "id": "Jy520Nv-uTCq"
   },
   "source": [
    "#### Adding new columns in the dataset for each column which has missing values "
   ]
  },
  {
   "cell_type": "code",
   "execution_count": null,
   "metadata": {
    "id": "-CJlYQ5KuTCr"
   },
   "outputs": [],
   "source": [
    "#For each column we create a binary flag for the row, if there is missing value in the row, then 1 else 0. \n",
    "def add_binary_flag(df,col):\n",
    "    '''\n",
    "    df: It is the dataframe\n",
    "    col: it is column which has missing values\n",
    "    It returns a dataframe which has binary falg for missing values in column col\n",
    "    '''\n",
    "    new_col = str(col)\n",
    "    new_col += '_missing_values_flag'\n",
    "    df[new_col] = df[col].isna()\n",
    "    return df"
   ]
  },
  {
   "cell_type": "code",
   "execution_count": null,
   "metadata": {
    "id": "-FKPAmAjuTCr"
   },
   "outputs": [],
   "source": [
    "# list of columns that has missing values in it\n",
    "missing_col = [col for col in df.columns if df[col].isnull().any()]\n",
    "\n",
    "for colmn in missing_col:\n",
    "    add_binary_flag(df,colmn)\n",
    "    "
   ]
  },
  {
   "cell_type": "markdown",
   "metadata": {
    "id": "_tXbx-9cuTCr"
   },
   "source": [
    "#### Filling missing values in numerical columns with median and mode in categorical variables"
   ]
  },
  {
   "cell_type": "code",
   "execution_count": null,
   "metadata": {
    "id": "fojOcAzyuTCs"
   },
   "outputs": [],
   "source": [
    "#  Treat Missing values in numerical columns with median and mode in categorical variables\n",
    "# Select numeric columns.\n",
    "num_data = df.select_dtypes('number')\n",
    "\n",
    "# Select string and object columns.\n",
    "cat_data = df.select_dtypes('category').columns.tolist()#df.select_dtypes('object')\n",
    "\n",
    "# Fill numeric columns with median.\n",
    "# Remove _________ and complete the code\n",
    "df[num_data.columns] = num_data._________________\n",
    "\n",
    "# Fill object columns with model.\n",
    "# Remove _________ and complete the code\n",
    "for column in cat_data:\n",
    "    mode = df[column].mode()[0]\n",
    "    df[column] = df[column].____________"
   ]
  },
  {
   "cell_type": "markdown",
   "metadata": {
    "id": "eG_XM04vuTCs"
   },
   "source": [
    "## **Proposed approach**\n",
    "**1. Potential techniques** - What different techniques should be explored?\n",
    "\n",
    "**2. Overall solution design** - What is the potential solution design?\n",
    "\n",
    "**3. Measures of success** - What are the key measures of success?"
   ]
  }
 ],
 "metadata": {
  "colab": {
   "collapsed_sections": [
    "MeR8oNrJuTCB",
    "T9ykJzCRuTCD",
    "XJKmSsjtuTCF",
    "HGRNlowYuTCG",
    "8RQwiyX5uTCI",
    "MEwi3CxXuTCL",
    "PgMjKOaRuTCM",
    "rHTODkjLuTCT",
    "KVqJU9nluTCV",
    "3ZcMbNvZuTCW",
    "4whDGVaBuTCW",
    "blkJiWpZuTCX",
    "NQPk1YdYuTCY",
    "35i8LgeWuTCY",
    "XtWPhW6AuTCZ",
    "igI2dP6wuTCa",
    "bj9lXxzWuTCa",
    "RcrXKyzxuTCb",
    "e5Uz1rqnuTCc",
    "1eucYnvKuTCc",
    "cAs34FMbuTCd",
    "ce5BjPB1uTCf",
    "bv2ZSN0fuTCj",
    "fq0ReWniuTCl",
    "pc9wZJcGuTCm",
    "RTN4DIW4uTCp",
    "zEjMlq0quTCp",
    "Jy520Nv-uTCq",
    "_tXbx-9cuTCr"
   ],
   "name": "Reference_Notebook_Milestone_1_Classification.ipynb",
   "provenance": []
  },
  "kernelspec": {
   "display_name": "Python 3 (ipykernel)",
   "language": "python",
   "name": "python3"
  },
  "language_info": {
   "codemirror_mode": {
    "name": "ipython",
    "version": 3
   },
   "file_extension": ".py",
   "mimetype": "text/x-python",
   "name": "python",
   "nbconvert_exporter": "python",
   "pygments_lexer": "ipython3",
   "version": "3.9.7"
  },
  "toc": {
   "base_numbering": 1,
   "nav_menu": {},
   "number_sections": true,
   "sideBar": true,
   "skip_h1_title": false,
   "title_cell": "Table of Contents",
   "title_sidebar": "Contents",
   "toc_cell": false,
   "toc_position": {},
   "toc_section_display": true,
   "toc_window_display": false
  }
 },
 "nbformat": 4,
 "nbformat_minor": 1
}
